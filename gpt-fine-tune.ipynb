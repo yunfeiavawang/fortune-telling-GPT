{
 "cells": [
  {
   "cell_type": "markdown",
   "id": "ffd516425e1c1910",
   "metadata": {
    "id": "ffd516425e1c1910"
   },
   "source": [
    "# Upload files to OpenAI"
   ]
  },
  {
   "cell_type": "code",
   "execution_count": null,
   "id": "e67f547c",
   "metadata": {
    "executionInfo": {
     "elapsed": 7,
     "status": "ok",
     "timestamp": 1747698441860,
     "user": {
      "displayName": "Yunfei Wang",
      "userId": "02384338245670482365"
     },
     "user_tz": 300
    },
    "id": "e67f547c"
   },
   "outputs": [],
   "source": [
    "import requests\n",
    "import os\n",
    "\n",
    "# Load OPENAI_API_KEY from environment variables\n",
    "API_KEY = \"OpenAI key\"\n",
    "\n",
    "# Define the API endpoint\n",
    "url = \"https://api.openai.com/v1/files\"\n",
    "\n",
    "# Specify the file paths\n",
    "file_paths = [\n",
    "    \"fortune_train.jsonl\",\n",
    "    \"fortune_val.jsonl\"\n",
    "]\n",
    "\n",
    "# Set headers\n",
    "headers = {\n",
    "    \"Authorization\": f\"Bearer {API_KEY}\"\n",
    "}"
   ]
  },
  {
   "cell_type": "code",
   "execution_count": 10,
   "id": "oXL5UMJP8mHA",
   "metadata": {
    "colab": {
     "base_uri": "https://localhost:8080/"
    },
    "executionInfo": {
     "elapsed": 5,
     "status": "ok",
     "timestamp": 1747698511088,
     "user": {
      "displayName": "Yunfei Wang",
      "userId": "02384338245670482365"
     },
     "user_tz": 300
    },
    "id": "oXL5UMJP8mHA",
    "outputId": "b98e448a-cf83-486d-b34b-8409f687d30d"
   },
   "outputs": [
    {
     "name": "stdout",
     "output_type": "stream",
     "text": [
      "Uploaded fortune_train.jsonl:\n",
      "{'object': 'file', 'id': 'file-EnyTp8JPFitbTCKiPTD3Fs', 'purpose': 'fine-tune', 'filename': 'fortune_train.jsonl', 'bytes': 286683, 'created_at': 1747690796, 'expires_at': None, 'status': 'processed', 'status_details': None}\n",
      "Uploaded fortune_val.jsonl:\n",
      "{'object': 'file', 'id': 'file-8C5JwpG71m7hLB6XV8h5bE', 'purpose': 'fine-tune', 'filename': 'fortune_val.jsonl', 'bytes': 67347, 'created_at': 1747690797, 'expires_at': None, 'status': 'processed', 'status_details': None}\n",
      "\n"
     ]
    }
   ],
   "source": [
    "# Upload each file\n",
    "for file_path in file_paths:\n",
    "    with open(file_path, \"rb\") as file:\n",
    "        files = {\n",
    "            \"file\": file\n",
    "        }\n",
    "        data = {\n",
    "            \"purpose\": \"fine-tune\"\n",
    "        }\n",
    "\n",
    "        response = requests.post(url, headers=headers, files=files, data=data)\n",
    "\n",
    "        # Print response for each file\n",
    "        print(f\"Uploaded {file_path}:\")\n",
    "        print(response.json())"
   ]
  },
  {
   "cell_type": "markdown",
   "id": "819468aedb8ecdf3",
   "metadata": {
    "id": "819468aedb8ecdf3"
   },
   "source": [
    "# Fine tune the model"
   ]
  },
  {
   "cell_type": "code",
   "execution_count": 4,
   "id": "71917a94a3b92735",
   "metadata": {
    "ExecuteTime": {
     "end_time": "2025-02-24T00:55:30.490739Z",
     "start_time": "2025-02-24T00:55:28.463955Z"
    },
    "colab": {
     "base_uri": "https://localhost:8080/"
    },
    "executionInfo": {
     "elapsed": 2136,
     "status": "ok",
     "timestamp": 1747691547984,
     "user": {
      "displayName": "Yunfei Wang",
      "userId": "02384338245670482365"
     },
     "user_tz": 300
    },
    "id": "71917a94a3b92735",
    "outputId": "1fd41236-2d2e-4987-9ae1-711b9526d313"
   },
   "outputs": [
    {
     "name": "stdout",
     "output_type": "stream",
     "text": [
      "Job ID: ftjob-zs8qr2yk3YkVbnxcBTDv0Ggi\n",
      "Status: validating_files\n"
     ]
    }
   ],
   "source": [
    "MODEL = \"gpt-4o-mini-2024-07-18\"\n",
    "\n",
    "import openai\n",
    "\n",
    "# load OPENAI_API_KEY from environment variables\n",
    "client = openai.Client(api_key=API_KEY)\n",
    "\n",
    "response = client.fine_tuning.jobs.create(\n",
    "    training_file='file-EnyTp8JPFitbTCKiPTD3Fs',\n",
    "    validation_file='file-8C5JwpG71m7hLB6XV8h5bE',\n",
    "    model=MODEL,\n",
    "    suffix=\"design-voice\",\n",
    ")\n",
    "\n",
    "job_id = response.id\n",
    "\n",
    "print(\"Job ID:\", response.id)\n",
    "print(\"Status:\", response.status)"
   ]
  },
  {
   "cell_type": "markdown",
   "id": "a36a6782efba7a9d",
   "metadata": {
    "id": "a36a6782efba7a9d"
   },
   "source": [
    "# Evaluation Metrics"
   ]
  },
  {
   "cell_type": "code",
   "execution_count": 12,
   "id": "73e7acc44e7cf1c",
   "metadata": {
    "ExecuteTime": {
     "end_time": "2025-02-24T01:26:07.142585Z",
     "start_time": "2025-02-24T01:26:06.906009Z"
    },
    "colab": {
     "base_uri": "https://localhost:8080/"
    },
    "executionInfo": {
     "elapsed": 591,
     "status": "ok",
     "timestamp": 1747698552768,
     "user": {
      "displayName": "Yunfei Wang",
      "userId": "02384338245670482365"
     },
     "user_tz": 300
    },
    "id": "73e7acc44e7cf1c",
    "outputId": "82ae57df-f0f9-4788-d372-eae08f57c288"
   },
   "outputs": [
    {
     "name": "stdout",
     "output_type": "stream",
     "text": [
      "FineTuningJob(id='ftjob-zs8qr2yk3YkVbnxcBTDv0Ggi', created_at=1747691547, error=Error(code=None, message=None, param=None), fine_tuned_model='ft:gpt-4o-mini-2024-07-18:personal:design-voice:BZ2wbUFw', finished_at=1747692495, hyperparameters=Hyperparameters(batch_size=1, learning_rate_multiplier=1.8, n_epochs=3), model='gpt-4o-mini-2024-07-18', object='fine_tuning.job', organization_id='org-HZTMyl5DL9ug1km6SpZTENRJ', result_files=['file-CSp6sDN8sGgqnvf588RuN9'], seed=923395405, status='succeeded', trained_tokens=241293, training_file='file-EnyTp8JPFitbTCKiPTD3Fs', validation_file='file-8C5JwpG71m7hLB6XV8h5bE', estimated_finish=None, integrations=[], metadata=None, method=Method(type='supervised', dpo=None, reinforcement=None, supervised=SupervisedMethod(hyperparameters=SupervisedHyperparameters(batch_size=1, learning_rate_multiplier=1.8, n_epochs=3))), user_provided_suffix='design-voice', usage_metrics=None, shared_with_openai=False, eval_id=None)\n"
     ]
    }
   ],
   "source": [
    "result = client.fine_tuning.jobs.retrieve(\"ftjob-zs8qr2yk3YkVbnxcBTDv0Ggi\")\n",
    "print(result)"
   ]
  },
  {
   "cell_type": "code",
   "execution_count": 13,
   "id": "d1e8110b8e73daca",
   "metadata": {
    "ExecuteTime": {
     "end_time": "2025-02-24T01:25:43.689258Z",
     "start_time": "2025-02-24T01:25:43.371401Z"
    },
    "colab": {
     "base_uri": "https://localhost:8080/"
    },
    "executionInfo": {
     "elapsed": 253,
     "status": "ok",
     "timestamp": 1747698560628,
     "user": {
      "displayName": "Yunfei Wang",
      "userId": "02384338245670482365"
     },
     "user_tz": 300
    },
    "id": "d1e8110b8e73daca",
    "outputId": "d9a7e265-8d37-4ae5-fc37-da2747fb27c9"
   },
   "outputs": [
    {
     "name": "stdout",
     "output_type": "stream",
     "text": [
      "{'object': 'list', 'data': [{'object': 'fine_tuning.job.checkpoint', 'id': 'ftckpt_xdSwmM2YT9ypHP8DEe0OTTaQ', 'created_at': 1747692445, 'fine_tuned_model_checkpoint': 'ft:gpt-4o-mini-2024-07-18:personal:design-voice:BZ2wbUFw', 'fine_tuning_job_id': 'ftjob-zs8qr2yk3YkVbnxcBTDv0Ggi', 'metrics': {'step': 495, 'type': 'base'}, 'step_number': 495}, {'object': 'fine_tuning.job.checkpoint', 'id': 'ftckpt_8CliWithej402Wc9ChdYC3xz', 'created_at': 1747692226, 'fine_tuned_model_checkpoint': 'ft:gpt-4o-mini-2024-07-18:personal:design-voice:BZ2wbFgN:ckpt-step-330', 'fine_tuning_job_id': 'ftjob-zs8qr2yk3YkVbnxcBTDv0Ggi', 'metrics': {'step': 330, 'type': 'base'}, 'step_number': 330}, {'object': 'fine_tuning.job.checkpoint', 'id': 'ftckpt_riHLhT82xw4FEXkZgMKfkqjg', 'created_at': 1747692000, 'fine_tuned_model_checkpoint': 'ft:gpt-4o-mini-2024-07-18:personal:design-voice:BZ2waIXk:ckpt-step-165', 'fine_tuning_job_id': 'ftjob-zs8qr2yk3YkVbnxcBTDv0Ggi', 'metrics': {'step': 165, 'type': 'base'}, 'step_number': 165}], 'has_more': False, 'first_id': 'ftckpt_xdSwmM2YT9ypHP8DEe0OTTaQ', 'last_id': 'ftckpt_riHLhT82xw4FEXkZgMKfkqjg'}\n"
     ]
    }
   ],
   "source": [
    "# Define the API endpoint\n",
    "job_id = \"ftjob-zs8qr2yk3YkVbnxcBTDv0Ggi\"\n",
    "url = f\"https://api.openai.com/v1/fine_tuning/jobs/{job_id}/checkpoints\"\n",
    "\n",
    "# Set headers\n",
    "headers = {\n",
    "    \"Authorization\": f\"Bearer {API_KEY}\"\n",
    "}\n",
    "\n",
    "# Send GET request\n",
    "response = requests.get(url, headers=headers)\n",
    "\n",
    "# Print response\n",
    "print(response.json())"
   ]
  }
 ],
 "metadata": {
  "colab": {
   "provenance": []
  },
  "kernelspec": {
   "display_name": "chatbot25win",
   "language": "python",
   "name": "python3"
  },
  "language_info": {
   "codemirror_mode": {
    "name": "ipython",
    "version": 3
   },
   "file_extension": ".py",
   "mimetype": "text/x-python",
   "name": "python",
   "nbconvert_exporter": "python",
   "pygments_lexer": "ipython3",
   "version": "3.12.8"
  }
 },
 "nbformat": 4,
 "nbformat_minor": 5
}
